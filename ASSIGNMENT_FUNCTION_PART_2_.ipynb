{
  "nbformat": 4,
  "nbformat_minor": 0,
  "metadata": {
    "colab": {
      "provenance": []
    },
    "kernelspec": {
      "name": "python3",
      "display_name": "Python 3"
    },
    "language_info": {
      "name": "python"
    }
  },
  "cells": [
    {
      "cell_type": "markdown",
      "source": [
        "Name - ABU Rafe\n",
        "\n",
        "\n"
      ],
      "metadata": {
        "id": "NGm3AR_RLdnw"
      }
    },
    {
      "cell_type": "markdown",
      "source": [
        "SUBJECT - DATA SCIENCE"
      ],
      "metadata": {
        "id": "vADVbQRjSswK"
      }
    },
    {
      "cell_type": "markdown",
      "source": [
        "Institution - PW SKILLS"
      ],
      "metadata": {
        "id": "FB-dg-17L1gn"
      }
    },
    {
      "cell_type": "markdown",
      "source": [
        "TEACHER - ( AJAY GUPTA)"
      ],
      "metadata": {
        "id": "eXYXgrVEMCl7"
      }
    },
    {
      "cell_type": "markdown",
      "source": [
        "ASSIGNMENT TYPE - PRACTICAL QUESTION"
      ],
      "metadata": {
        "id": "erZNdjwTL-rp"
      }
    },
    {
      "cell_type": "markdown",
      "source": [
        "Assignment – Python Functions"
      ],
      "metadata": {
        "id": "6QTR-8_JKgaM"
      }
    },
    {
      "cell_type": "markdown",
      "source": [
        "1️⃣ Write a Python function that takes a list of numbers as input and returns the sum of all even numbers in the list."
      ],
      "metadata": {
        "id": "5WlgS_dmOGUX"
      }
    },
    {
      "cell_type": "code",
      "source": [
        "def sum_of_even_numbers(numbers):\n",
        "    return sum(num for num in numbers if num % 2 == 0)\n",
        "\n",
        "# Example\n",
        "nums = [1, 2, 3, 4, 5, 6]\n",
        "print(\"Sum of even numbers:\", sum_of_even_numbers(nums))"
      ],
      "metadata": {
        "colab": {
          "base_uri": "https://localhost:8080/"
        },
        "id": "_Cul-5yeOQ0f",
        "outputId": "d5bb1459-ee4b-4edb-a703-6547c83996e2"
      },
      "execution_count": 3,
      "outputs": [
        {
          "output_type": "stream",
          "name": "stdout",
          "text": [
            "Sum of even numbers: 12\n"
          ]
        }
      ]
    },
    {
      "cell_type": "markdown",
      "source": [
        "2️⃣ Create a Python function that accepts a string and returns the reverse of that string."
      ],
      "metadata": {
        "id": "B6lBG9qzObfN"
      }
    },
    {
      "cell_type": "code",
      "source": [
        "def reverse_string(s):\n",
        "    return s[::-1]\n",
        "\n",
        "# Example\n",
        "print(reverse_string(\"Python\"))"
      ],
      "metadata": {
        "colab": {
          "base_uri": "https://localhost:8080/"
        },
        "id": "BY3aWlB2OgIX",
        "outputId": "31d8118b-de45-4b6b-acc4-3879f68a970b"
      },
      "execution_count": 4,
      "outputs": [
        {
          "output_type": "stream",
          "name": "stdout",
          "text": [
            "nohtyP\n"
          ]
        }
      ]
    },
    {
      "cell_type": "markdown",
      "source": [
        "3️⃣ Implement a Python function that takes a list of integers and returns a new list containing the squares of each number"
      ],
      "metadata": {
        "id": "Y3ZjRwU1Om7y"
      }
    },
    {
      "cell_type": "code",
      "source": [
        "def square_list(nums):\n",
        "    return [x**2 for x in nums]\n",
        "\n",
        "# Example\n",
        "print(square_list([1, 2, 3, 4]))"
      ],
      "metadata": {
        "colab": {
          "base_uri": "https://localhost:8080/"
        },
        "id": "7Zmq1rOyOshg",
        "outputId": "bbc88604-5107-4172-d5b9-4f6c1726e715"
      },
      "execution_count": 5,
      "outputs": [
        {
          "output_type": "stream",
          "name": "stdout",
          "text": [
            "[1, 4, 9, 16]\n"
          ]
        }
      ]
    },
    {
      "cell_type": "markdown",
      "source": [
        "4️⃣ Write a Python function that checks if a given number is prime or not from 1 to 200."
      ],
      "metadata": {
        "id": "1iDlddb-OzDf"
      }
    },
    {
      "cell_type": "code",
      "source": [
        "def is_prime(n):\n",
        "    if n < 2:\n",
        "        return False\n",
        "    for i in range(2, int(n**0.5) + 1):\n",
        "        if n % i == 0:\n",
        "            return False\n",
        "    return True\n",
        "\n",
        "# Print all prime numbers between 1 and 200\n",
        "for num in range(1, 201):\n",
        "    if is_prime(num):\n",
        "        print(num, end=\" \")"
      ],
      "metadata": {
        "colab": {
          "base_uri": "https://localhost:8080/"
        },
        "id": "SmoyPsUnO4X_",
        "outputId": "ebcbb6e5-3c9c-441c-c310-a68f9cb6fdee"
      },
      "execution_count": 6,
      "outputs": [
        {
          "output_type": "stream",
          "name": "stdout",
          "text": [
            "2 3 5 7 11 13 17 19 23 29 31 37 41 43 47 53 59 61 67 71 73 79 83 89 97 101 103 107 109 113 127 131 137 139 149 151 157 163 167 173 179 181 191 193 197 199 "
          ]
        }
      ]
    },
    {
      "cell_type": "markdown",
      "source": [
        "5️⃣ Create an iterator class in Python that generates the Fibonacci sequence up to a specified number of terms."
      ],
      "metadata": {
        "id": "vJ_F2aXNP14S"
      }
    },
    {
      "cell_type": "code",
      "source": [
        "class Fibonacci:\n",
        "    def __init__(self, n):\n",
        "        self.n = n\n",
        "        self.a, self.b = 0, 1\n",
        "        self.count = 0\n",
        "\n",
        "    def __iter__(self):\n",
        "        return self\n",
        "\n",
        "    def __next__(self):\n",
        "        if self.count < self.n:\n",
        "            self.a, self.b = self.b, self.a + self.b\n",
        "            self.count += 1\n",
        "            return self.a\n",
        "        else:\n",
        "            raise StopIteration\n",
        "\n",
        "# Example\n",
        "for num in Fibonacci(10):\n",
        "    print(num, end=\" \")"
      ],
      "metadata": {
        "colab": {
          "base_uri": "https://localhost:8080/"
        },
        "id": "fH4xGUWEP7E4",
        "outputId": "da239a41-9d57-48d2-da39-941f74fb3066"
      },
      "execution_count": 7,
      "outputs": [
        {
          "output_type": "stream",
          "name": "stdout",
          "text": [
            "1 1 2 3 5 8 13 21 34 55 "
          ]
        }
      ]
    },
    {
      "cell_type": "markdown",
      "source": [
        "6️⃣ Write a generator function in Python that yields the powers of 2 up to a given exponent."
      ],
      "metadata": {
        "id": "wyVusDCOQBUh"
      }
    },
    {
      "cell_type": "code",
      "source": [
        "def power_of_two(n):\n",
        "    for i in range(n + 1):\n",
        "        yield 2 ** i\n",
        "\n",
        "# Example\n",
        "for val in power_of_two(5):\n",
        "    print(val)"
      ],
      "metadata": {
        "colab": {
          "base_uri": "https://localhost:8080/"
        },
        "id": "QsG7oK0DQFFb",
        "outputId": "ebf9a357-edb9-470c-d9ca-7ec6e81b5647"
      },
      "execution_count": 8,
      "outputs": [
        {
          "output_type": "stream",
          "name": "stdout",
          "text": [
            "1\n",
            "2\n",
            "4\n",
            "8\n",
            "16\n",
            "32\n"
          ]
        }
      ]
    },
    {
      "cell_type": "markdown",
      "source": [
        "7️⃣ Implement a generator function that reads a file line by line and yields each line as a string."
      ],
      "metadata": {
        "id": "4Y0kWkVtQMXF"
      }
    },
    {
      "cell_type": "code",
      "metadata": {
        "colab": {
          "base_uri": "https://localhost:8080/"
        },
        "id": "9a37c7d3",
        "outputId": "0a2a54cd-7194-4413-c31a-9912a633a663"
      },
      "source": [
        "# Create a dummy file for demonstration\n",
        "with open(\"sample.txt\", \"w\") as f:\n",
        "    f.write(\"This is line 1.\\n\")\n",
        "    f.write(\"This is line 2.\\n\")\n",
        "    f.write(\"This is line 3.\\n\")\n",
        "\n",
        "# Now, the original code should work\n",
        "def read_file_line_by_line(file_path):\n",
        "    with open(file_path, \"r\") as file:\n",
        "        for line in file:\n",
        "            yield line.strip()\n",
        "\n",
        "# Example (use your file name)\n",
        "for line in read_file_line_by_line(\"sample.txt\"):\n",
        "    print(line)"
      ],
      "execution_count": 10,
      "outputs": [
        {
          "output_type": "stream",
          "name": "stdout",
          "text": [
            "This is line 1.\n",
            "This is line 2.\n",
            "This is line 3.\n"
          ]
        }
      ]
    },
    {
      "cell_type": "markdown",
      "source": [
        "8️⃣ Use a lambda function in Python to sort a list of tuples based on the second element of each tuple"
      ],
      "metadata": {
        "id": "2F9hH9-KQg-I"
      }
    },
    {
      "cell_type": "code",
      "source": [
        "data = [(1, 3), (4, 2), (2, 1)]\n",
        "sorted_data = sorted(data, key=lambda x: x[1])\n",
        "print(sorted_data)"
      ],
      "metadata": {
        "colab": {
          "base_uri": "https://localhost:8080/"
        },
        "id": "aJvpefIYQqVw",
        "outputId": "8d46e65e-271e-4988-df5c-d8506d17bcf7"
      },
      "execution_count": 11,
      "outputs": [
        {
          "output_type": "stream",
          "name": "stdout",
          "text": [
            "[(2, 1), (4, 2), (1, 3)]\n"
          ]
        }
      ]
    },
    {
      "cell_type": "markdown",
      "source": [
        "9️⃣ Write a Python program that uses map() to convert a list of temperatures from Celsius to Fahrenheit."
      ],
      "metadata": {
        "id": "gYUZIBz8RKmJ"
      }
    },
    {
      "cell_type": "code",
      "source": [
        "temps_celsius = [0, 20, 37, 100]\n",
        "temps_fahrenheit = list(map(lambda c: (9/5)*c + 32, temps_celsius))\n",
        "print(temps_fahrenheit)"
      ],
      "metadata": {
        "colab": {
          "base_uri": "https://localhost:8080/"
        },
        "id": "5m-0NPzgRRiV",
        "outputId": "2d4247a5-0b1e-4529-f5da-7d05843a38c4"
      },
      "execution_count": 12,
      "outputs": [
        {
          "output_type": "stream",
          "name": "stdout",
          "text": [
            "[32.0, 68.0, 98.60000000000001, 212.0]\n"
          ]
        }
      ]
    },
    {
      "cell_type": "markdown",
      "source": [
        "🔟 Create a Python program that uses filter() to remove all the vowels from a given string"
      ],
      "metadata": {
        "id": "PPwpqSeuRVlH"
      }
    },
    {
      "cell_type": "code",
      "source": [
        "def remove_vowels(s):\n",
        "    vowels = \"aeiouAEIOU\"\n",
        "    return \"\".join(filter(lambda ch: ch not in vowels, s))\n",
        "\n",
        "print(remove_vowels(\"Beautiful Python\"))"
      ],
      "metadata": {
        "colab": {
          "base_uri": "https://localhost:8080/"
        },
        "id": "Au0W5r5tRoy3",
        "outputId": "bcc8f390-bd1b-4492-eb7a-1ec4aacb1087"
      },
      "execution_count": 13,
      "outputs": [
        {
          "output_type": "stream",
          "name": "stdout",
          "text": [
            "Btfl Pythn\n"
          ]
        }
      ]
    },
    {
      "cell_type": "markdown",
      "source": [
        "1️⃣1️⃣ Imagine an accounting routine used in a book shop.\n",
        "\n",
        "Question:\n",
        "Each record in the list represents —\n",
        "Order Number, Book Title and Author, Quantity, Price per Item.\n",
        "\n",
        "Write a Python program that returns a list with 2-tuples.\n",
        "Each tuple consists of the order number and the total cost of the order.\n",
        "If the total cost is less than 100€, add a 10€ surcharge.\n",
        "\n",
        "Data:\n",
        "\n",
        "orders = [\n",
        "    [34587, \"Learning Python, Mark Lutz\", 4, 40.95],\n",
        "    [98762, \"Programming Python, Mark Lutz\", 5, 56.80],\n",
        "    [77226, \"Head First Python, Paul Barry\", 3, 32.95],\n",
        "    [88112, \"Einführung in Python3, Bernd Klein\", 3, 24.99]\n",
        "]"
      ],
      "metadata": {
        "id": "KTlX1r-aRuA5"
      }
    },
    {
      "cell_type": "code",
      "source": [
        "orders = [\n",
        "    [34587, \"Learning Python, Mark Lutz\", 4, 40.95],\n",
        "    [98762, \"Programming Python, Mark Lutz\", 5, 56.80],\n",
        "    [77226, \"Head First Python, Paul Barry\", 3, 32.95],\n",
        "    [88112, \"Einführung in Python3, Bernd Klein\", 3, 24.99]\n",
        "]\n",
        "\n",
        "invoice = list(map(\n",
        "    lambda x: (x[0], x[2]*x[3] if x[2]*x[3] >= 100 else x[2]*x[3] + 10),\n",
        "    orders\n",
        "))\n",
        "\n",
        "print(invoice)"
      ],
      "metadata": {
        "colab": {
          "base_uri": "https://localhost:8080/"
        },
        "id": "LC_Ae3dMR52Q",
        "outputId": "5889a51d-b980-4b6f-c07c-fb79f1f2ae45"
      },
      "execution_count": 17,
      "outputs": [
        {
          "output_type": "stream",
          "name": "stdout",
          "text": [
            "[(34587, 163.8), (98762, 284.0), (77226, 108.85000000000001), (88112, 84.97)]\n"
          ]
        }
      ]
    }
  ]
}